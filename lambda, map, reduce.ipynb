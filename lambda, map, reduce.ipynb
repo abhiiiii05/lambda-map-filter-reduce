{
 "cells": [
  {
   "cell_type": "markdown",
   "id": "603bc34b-cc64-42e7-8836-c9b95bd46388",
   "metadata": {},
   "source": [
    "### Ans 1"
   ]
  },
  {
   "cell_type": "code",
   "execution_count": 2,
   "id": "fdfc840e-0d2f-4a36-bbc2-61e8410fb120",
   "metadata": {},
   "outputs": [],
   "source": [
    "player = [('Sachin Tendulkar',34357),('Ricky Ponting',27483),('Jack Kallis',25534),('Virat Kohli',24936)]"
   ]
  },
  {
   "cell_type": "code",
   "execution_count": 18,
   "id": "6f0e861a-d434-40b7-abe8-9e05a6e1f9c0",
   "metadata": {},
   "outputs": [
    {
     "name": "stdout",
     "output_type": "stream",
     "text": [
      "[('Virat Kohli', 24936), ('Jack Kallis', 25534), ('Ricky Ponting', 27483), ('Sachin Tendulkar', 34357)]\n"
     ]
    }
   ],
   "source": [
    "runs_player = sorted(player , key = lambda x : x[1])\n",
    "print(runs_player)"
   ]
  },
  {
   "cell_type": "markdown",
   "id": "0357f846-8da8-4965-ab14-4ca63cadd17f",
   "metadata": {},
   "source": [
    "### Ans 2"
   ]
  },
  {
   "cell_type": "code",
   "execution_count": 8,
   "id": "4fbe4899-ca76-4be5-aaa3-a0c2b868dcff",
   "metadata": {},
   "outputs": [],
   "source": [
    "l = [1,2,3,4,5,6,7,8,9,10]"
   ]
  },
  {
   "cell_type": "code",
   "execution_count": 9,
   "id": "717cb3cd-16c2-4304-86a8-0347c83f84e9",
   "metadata": {},
   "outputs": [
    {
     "name": "stdout",
     "output_type": "stream",
     "text": [
      "[1, 4, 9, 16, 25, 36, 49, 64, 81, 100]\n"
     ]
    }
   ],
   "source": [
    "l2 = list(map(lambda x : x**2 , l))\n",
    "print(l2)"
   ]
  },
  {
   "cell_type": "markdown",
   "id": "c29f3b3e-53f6-4ee1-a4d5-9f5926ba8978",
   "metadata": {},
   "source": [
    "### Ans 3"
   ]
  },
  {
   "cell_type": "code",
   "execution_count": 10,
   "id": "edcb4bad-150b-497f-9faa-a230502d7cb3",
   "metadata": {},
   "outputs": [],
   "source": [
    "s = [1,2,3,4,5,6,7,8,9,10]"
   ]
  },
  {
   "cell_type": "code",
   "execution_count": 13,
   "id": "26317426-eca1-4144-840b-405c5535e5b2",
   "metadata": {},
   "outputs": [
    {
     "name": "stdout",
     "output_type": "stream",
     "text": [
      "('1', '2', '3', '4', '5', '6', '7', '8', '9', '10')\n"
     ]
    }
   ],
   "source": [
    "t = tuple(map(lambda x : str(x), s ))\n",
    "print(t)"
   ]
  },
  {
   "cell_type": "markdown",
   "id": "635c2a13-159c-4e25-89c2-846b3c1605a3",
   "metadata": {},
   "source": [
    "### Ans 4"
   ]
  },
  {
   "cell_type": "code",
   "execution_count": 14,
   "id": "b5a52be0-7dca-4f92-bb24-2d5a61b89e1c",
   "metadata": {},
   "outputs": [],
   "source": [
    "from functools import reduce"
   ]
  },
  {
   "cell_type": "code",
   "execution_count": 19,
   "id": "eed0e63c-503c-47f0-a353-a65bbbce978e",
   "metadata": {},
   "outputs": [],
   "source": [
    "l3 = [1,2,3,4,5,6,7,8,9,10,11,12,13,14,15,16,17,18,19,20,21,22,23,24,25]"
   ]
  },
  {
   "cell_type": "code",
   "execution_count": 20,
   "id": "acf79f33-e58f-4298-ae55-910728157865",
   "metadata": {},
   "outputs": [
    {
     "data": {
      "text/plain": [
       "325"
      ]
     },
     "execution_count": 20,
     "metadata": {},
     "output_type": "execute_result"
    }
   ],
   "source": [
    "reduce(lambda x,y : x+y ,l3)"
   ]
  },
  {
   "cell_type": "markdown",
   "id": "6111d641-8296-4221-bc77-9e8fbfb77ca2",
   "metadata": {},
   "source": [
    "### Ans 5"
   ]
  },
  {
   "cell_type": "code",
   "execution_count": 21,
   "id": "2bcd00d0-53c4-4d99-bae1-f09ebe27e801",
   "metadata": {},
   "outputs": [],
   "source": [
    "l4 = [2,3,6,9,27,60,90,120,55,46]"
   ]
  },
  {
   "cell_type": "code",
   "execution_count": 24,
   "id": "f7465eaa-4ecb-454b-b2e7-c36c02d8447c",
   "metadata": {},
   "outputs": [
    {
     "data": {
      "text/plain": [
       "[6, 60, 90, 120]"
      ]
     },
     "execution_count": 24,
     "metadata": {},
     "output_type": "execute_result"
    }
   ],
   "source": [
    "list(filter(lambda x : x % 2 == 0 and x % 3 == 0 ,l4 ))"
   ]
  },
  {
   "cell_type": "markdown",
   "id": "5d44ee28-0b2d-4f9f-92ec-3446d47ee6cc",
   "metadata": {},
   "source": [
    "### Ans 6"
   ]
  },
  {
   "cell_type": "code",
   "execution_count": 26,
   "id": "f639ace2-1413-431c-8183-a2e8b184f010",
   "metadata": {},
   "outputs": [],
   "source": [
    "def pal(x,y):\n",
    "    return(x,y == y,x)"
   ]
  },
  {
   "cell_type": "code",
   "execution_count": 27,
   "id": "eb2ce8ac-1b7c-429e-9b49-81e9b4277115",
   "metadata": {},
   "outputs": [],
   "source": [
    "l5 = ['python','php','aba','radar','level']"
   ]
  },
  {
   "cell_type": "code",
   "execution_count": 32,
   "id": "3e204f9b-7f89-466f-bf9b-4811107fde7c",
   "metadata": {},
   "outputs": [
    {
     "data": {
      "text/plain": [
       "['php', 'aba', 'radar', 'level']"
      ]
     },
     "execution_count": 32,
     "metadata": {},
     "output_type": "execute_result"
    }
   ],
   "source": [
    "list(filter(lambda x : x == x[::-1],l5))"
   ]
  },
  {
   "cell_type": "code",
   "execution_count": null,
   "id": "e946d718-bc90-4377-9cba-897d6c931d3a",
   "metadata": {},
   "outputs": [],
   "source": []
  }
 ],
 "metadata": {
  "kernelspec": {
   "display_name": "Python 3 (ipykernel)",
   "language": "python",
   "name": "python3"
  },
  "language_info": {
   "codemirror_mode": {
    "name": "ipython",
    "version": 3
   },
   "file_extension": ".py",
   "mimetype": "text/x-python",
   "name": "python",
   "nbconvert_exporter": "python",
   "pygments_lexer": "ipython3",
   "version": "3.10.8"
  }
 },
 "nbformat": 4,
 "nbformat_minor": 5
}
